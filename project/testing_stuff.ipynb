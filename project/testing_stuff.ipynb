{
 "cells": [
  {
   "cell_type": "code",
   "execution_count": 1,
   "metadata": {
    "collapsed": true
   },
   "outputs": [],
   "source": [
    "import pickle\n",
    "import numpy as np\n",
    "import matplotlib.pyplot as plt\n",
    "import torch\n",
    "import torch_model\n",
    "from adaptive_filter.cerebellum import AdaptiveFilterCerebellum\n",
    "from cmac import CMAC\n",
    "\n",
    "from tqdm import tqdm  # progress bar"
   ]
  },
  {
   "cell_type": "code",
   "execution_count": 3,
   "outputs": [],
   "source": [
    "angles_diff = np.array([[0, 0]])\n",
    "inp = np.array([[0, 0, 0, 0]])\n",
    "abs_px = np.array([[0, 0, 0, 0]])\n",
    "\n",
    "# datasets = [\"data/training_data.p\"]\n",
    "# for i in range(2, 32):\n",
    "#     datasets.append(\"data/training_data\"+str(i)+\".p\")\n",
    "#\n",
    "# for dataset in datasets:\n",
    "#     print(\"Processing {}\".format(dataset))\n",
    "#     # Load data\n",
    "#     data = pickle.load(open(dataset, \"rb\"))\n",
    "#     angles = data[:, :2]\n",
    "#     angles /= 90.0\n",
    "#     end_pos = data[:, 2:]\n",
    "#     end_pos = (end_pos - 200) / 200\n",
    "#\n",
    "#     for i, angle in tqdm(enumerate(angles)):\n",
    "#         for j, angle2 in enumerate(angles):\n",
    "#             if i!=j:\n",
    "#                 angles_diff = np.concatenate((angles_diff, [angle2]))\n",
    "#                 inp = np.concatenate((inp, [np.concatenate((end_pos[j] - end_pos[i], angle))]))\n",
    "#                 abs_px = np.concatenate((abs_px, [np.concatenate((end_pos[i], end_pos[j]))]))\n",
    "# with open('processed_abs.p', 'wb') as file:\n",
    "#     pickle.dump((inp, angles_diff, abs_px), file)\n",
    "with open('processed_abs.p', 'rb') as file:\n",
    "    inp, angles_diff, abs_px = pickle.load(file)"
   ],
   "metadata": {
    "collapsed": false
   }
  },
  {
   "cell_type": "code",
   "execution_count": 4,
   "outputs": [
    {
     "name": "stdout",
     "output_type": "stream",
     "text": [
      "[[-0.02       -0.04       -0.97981771 -0.95052083]\n",
      " [-0.025      -0.105      -0.97981771 -0.95052083]\n",
      " [ 0.1        -0.13       -0.97981771 -0.95052083]\n",
      " ...\n",
      " [-0.015       0.005      -0.00976562  0.84309896]\n",
      " [-0.01        0.01       -0.00976562  0.84309896]\n",
      " [-0.01        0.005      -0.00976562  0.84309896]]\n",
      "[[-0.8984375  -0.95377604]\n",
      " [-0.78450521 -0.95703125]\n",
      " [-0.68033854 -0.95703125]\n",
      " ...\n",
      " [-0.16601562  0.84309896]\n",
      " [-0.11393229  0.84309896]\n",
      " [-0.06184896  0.84309896]]\n",
      "Training set generated\n",
      "Using GPU\n",
      "tensor([[-0.8984, -0.9538],\n",
      "        [-0.7845, -0.9570],\n",
      "        [-0.6803, -0.9570],\n",
      "        ...,\n",
      "        [-0.1660,  0.8431],\n",
      "        [-0.1139,  0.8431],\n",
      "        [-0.0618,  0.8431]])\n",
      "456600\n"
     ]
    }
   ],
   "source": [
    "inp = inp[1:, :]\n",
    "angles_diff = angles_diff[1:, :]\n",
    "abs_px = abs_px[1:, :]\n",
    "print(inp)\n",
    "print(angles_diff)\n",
    "print(\"Training set generated\")\n",
    "# Use GPU?\n",
    "device = 'cpu'\n",
    "if torch.cuda.is_available():\n",
    "    print(\"Using GPU\")\n",
    "    device = 'cuda'\n",
    "    # torch.set_default_tensor_type('torch.cuda.FloatTensor')\n",
    "\n",
    "x = torch.from_numpy(inp).float()\n",
    "y = torch.from_numpy(angles_diff).float()\n",
    "print(y)\n",
    "if device == 'cuda':\n",
    "    x = x.cuda()\n",
    "    y = y.cuda()\n",
    "# DONE split the training set and test set\n",
    "print(len(x.cpu()))\n",
    "train, test = torch.utils.data.random_split(range(len(x)), [0.8, 0.2])\n",
    "x_train, y_train, abs_px_train = x[train.indices], y[train.indices], abs_px[train.indices]\n",
    "x_test, y_test, abs_px_test = x[test.indices], y[test.indices], abs_px[test.indices]\n",
    "# Eventually normalize the data"
   ],
   "metadata": {
    "collapsed": false
   }
  },
  {
   "cell_type": "code",
   "execution_count": 5,
   "outputs": [
    {
     "data": {
      "text/plain": "Net(\n  (net): Sequential(\n    (0): Linear(in_features=4, out_features=50, bias=True)\n    (1): Sigmoid()\n    (2): Linear(in_features=50, out_features=50, bias=True)\n    (3): Sigmoid()\n    (4): Linear(in_features=50, out_features=50, bias=True)\n    (5): Sigmoid()\n    (6): Linear(in_features=50, out_features=2, bias=True)\n  )\n)"
     },
     "execution_count": 5,
     "metadata": {},
     "output_type": "execute_result"
    }
   ],
   "source": [
    "# Define neural network - an example\n",
    "model = torch_model.Net(4, 50, 2)\n",
    "model.load_state_dict(torch.load('closed_loop_trained_model.pth'))\n",
    "model.to(device)\n",
    "model.eval()"
   ],
   "metadata": {
    "collapsed": false
   }
  },
  {
   "cell_type": "code",
   "execution_count": 48,
   "outputs": [],
   "source": [
    "n_inputs = 4\n",
    "n_outputs = 2\n",
    "n_bases = 10\n",
    "beta = 1e-7\n",
    "\n",
    "# c = AdaptiveFilterCerebellum(n_inputs, n_outputs, n_bases, beta)\n",
    "x_min = [-2] * 2\n",
    "x_max = [2] * 2\n",
    "c = [CMAC(n_bases, x_min, x_max, beta) for _ in range(2)]"
   ],
   "metadata": {
    "collapsed": false
   }
  },
  {
   "cell_type": "code",
   "execution_count": 50,
   "outputs": [
    {
     "name": "stdout",
     "output_type": "stream",
     "text": [
      "Epoch 0/10\n"
     ]
    },
    {
     "name": "stderr",
     "output_type": "stream",
     "text": [
      "100%|██████████| 365280/365280 [01:14<00:00, 4871.02it/s]\n"
     ]
    },
    {
     "name": "stdout",
     "output_type": "stream",
     "text": [
      "NN MSE: 23.21622657775879\n",
      "AF MSE: 19.345015322232065\n",
      "Epoch 1/10\n"
     ]
    },
    {
     "name": "stderr",
     "output_type": "stream",
     "text": [
      "100%|██████████| 365280/365280 [01:15<00:00, 4814.23it/s]\n"
     ]
    },
    {
     "name": "stdout",
     "output_type": "stream",
     "text": [
      "NN MSE: 23.21622657775879\n",
      "AF MSE: 19.13216433197715\n",
      "Epoch 2/10\n"
     ]
    },
    {
     "name": "stderr",
     "output_type": "stream",
     "text": [
      "100%|██████████| 365280/365280 [01:19<00:00, 4595.00it/s]\n"
     ]
    },
    {
     "name": "stdout",
     "output_type": "stream",
     "text": [
      "NN MSE: 23.21622657775879\n",
      "AF MSE: 18.950854854194205\n",
      "Epoch 3/10\n"
     ]
    },
    {
     "name": "stderr",
     "output_type": "stream",
     "text": [
      "100%|██████████| 365280/365280 [01:07<00:00, 5383.40it/s]\n"
     ]
    },
    {
     "name": "stdout",
     "output_type": "stream",
     "text": [
      "NN MSE: 23.21622657775879\n",
      "AF MSE: 18.80284489137118\n",
      "Epoch 4/10\n"
     ]
    },
    {
     "name": "stderr",
     "output_type": "stream",
     "text": [
      "100%|██████████| 365280/365280 [01:08<00:00, 5308.74it/s]\n"
     ]
    },
    {
     "name": "stdout",
     "output_type": "stream",
     "text": [
      "NN MSE: 23.21622657775879\n",
      "AF MSE: 18.68976550630543\n",
      "Epoch 5/10\n"
     ]
    },
    {
     "name": "stderr",
     "output_type": "stream",
     "text": [
      "100%|██████████| 365280/365280 [01:13<00:00, 4969.72it/s]\n"
     ]
    },
    {
     "name": "stdout",
     "output_type": "stream",
     "text": [
      "NN MSE: 23.21622657775879\n",
      "AF MSE: 18.612773338704198\n",
      "Epoch 6/10\n"
     ]
    },
    {
     "name": "stderr",
     "output_type": "stream",
     "text": [
      "100%|██████████| 365280/365280 [01:17<00:00, 4733.15it/s]\n"
     ]
    },
    {
     "name": "stdout",
     "output_type": "stream",
     "text": [
      "NN MSE: 23.21622657775879\n",
      "AF MSE: 18.57414149299658\n",
      "Epoch 7/10\n"
     ]
    },
    {
     "name": "stderr",
     "output_type": "stream",
     "text": [
      "100%|██████████| 365280/365280 [01:23<00:00, 4365.86it/s]\n"
     ]
    },
    {
     "name": "stdout",
     "output_type": "stream",
     "text": [
      "NN MSE: 23.21622657775879\n",
      "AF MSE: 18.574337720198947\n",
      "Epoch 8/10\n"
     ]
    },
    {
     "name": "stderr",
     "output_type": "stream",
     "text": [
      "100%|██████████| 365280/365280 [01:13<00:00, 4987.76it/s]\n"
     ]
    },
    {
     "name": "stdout",
     "output_type": "stream",
     "text": [
      "NN MSE: 23.21622657775879\n",
      "AF MSE: 18.613970810424295\n",
      "Epoch 9/10\n"
     ]
    },
    {
     "name": "stderr",
     "output_type": "stream",
     "text": [
      "100%|██████████| 365280/365280 [01:11<00:00, 5094.82it/s]"
     ]
    },
    {
     "name": "stdout",
     "output_type": "stream",
     "text": [
      "NN MSE: 23.21622657775879\n",
      "AF MSE: 18.693251245297137\n"
     ]
    },
    {
     "name": "stderr",
     "output_type": "stream",
     "text": [
      "\n"
     ]
    }
   ],
   "source": [
    "num_epochs = 10\n",
    "mse_nn_hist = np.zeros(num_epochs)\n",
    "mse_af_hist = np.zeros(num_epochs)\n",
    "# c[0].beta = beta\n",
    "# c[1].beta = beta\n",
    "for epoch in range(num_epochs):\n",
    "    print(f\"Epoch {epoch}/{num_epochs}\")\n",
    "    x, y, abs_px = x_train, y_train, abs_px_train\n",
    "    curr_px = x[:, :2].cpu().numpy()\n",
    "    curr_joints = x[:, 2:].cpu().numpy()\n",
    "    joints_pred_raw = model(x).cpu()\n",
    "    joints_pred = joints_pred_raw.detach().numpy()[:] * 90\n",
    "    joints_diff = joints_pred - curr_joints\n",
    "\n",
    "    K = 0.6\n",
    "    samples = len(joints_diff)\n",
    "    af_preds = np.zeros((samples, 2))\n",
    "\n",
    "    for i in tqdm(range(len(joints_diff))):\n",
    "        # cj = curr_joints[i, :]\n",
    "        # pj = joints_pred[i, :]\n",
    "        dj = joints_diff[i]\n",
    "        # print(dj)\n",
    "        # c.step(np.concatenate((cj, pj)), dj)\n",
    "        # print(abs_px[i, [1,3]])\n",
    "        pred = np.array([\n",
    "            c[0].predict(abs_px[i, [1, 3]]),\n",
    "            c[1].predict(abs_px[i, [0, 2]]),\n",
    "        ])\n",
    "        af_preds[i, :] = pred\n",
    "        c[0].learn(dj[0])\n",
    "        c[1].learn(dj[1])\n",
    "    joints_out = curr_joints + af_preds + K * joints_diff\n",
    "    joints_true = y.cpu().numpy() * 90\n",
    "    nn_out = curr_joints + K * joints_diff\n",
    "    mse_nn_hist[epoch] = np.mean(np.abs(nn_out - joints_true))\n",
    "    mse_af_hist[epoch] = np.mean(np.abs(joints_out - joints_true))\n",
    "    print(f'NN MSE: {mse_nn_hist[epoch]}')\n",
    "    print(f'AF MSE: {mse_af_hist[epoch]}')"
   ],
   "metadata": {
    "collapsed": false
   }
  },
  {
   "cell_type": "code",
   "execution_count": 39,
   "outputs": [
    {
     "data": {
      "text/plain": "<Figure size 640x480 with 1 Axes>",
      "image/png": "[encoded data removed]"
     },
     "metadata": {},
     "output_type": "display_data"
    }
   ],
   "source": [
    "_ = plt.hist(joints_diff)"
   ],
   "metadata": {
    "collapsed": false
   }
  },
  {
   "cell_type": "code",
   "execution_count": 51,
   "outputs": [
    {
     "name": "stderr",
     "output_type": "stream",
     "text": [
      "100%|██████████| 91320/91320 [00:18<00:00, 5016.24it/s]\n"
     ]
    }
   ],
   "source": [
    "# c[0].beta = 0.0\n",
    "# c[1].beta = 0.0\n",
    "x, y, abs_px = x_test, y_test, abs_px_test\n",
    "curr_joints = x[:, 2:].cpu().numpy()\n",
    "joints_pred_raw = model(x).cpu()\n",
    "joints_pred = joints_pred_raw.detach().numpy()[:] * 90\n",
    "joints_diff = joints_pred - curr_joints\n",
    "K = 0.6\n",
    "samples = len(joints_diff)\n",
    "af_preds = np.zeros((samples, 2))\n",
    "\n",
    "for i in tqdm(range(samples)):\n",
    "    # cj = curr_joints[i, :]\n",
    "    # pj = joints_pred[i, :]\n",
    "    # dj = joints_diff[i]\n",
    "    pred = np.array([\n",
    "        c[0].predict(abs_px[i, [1, 3]]),\n",
    "        c[1].predict(abs_px[i, [0, 2]]),\n",
    "    ])\n",
    "    af_preds[i, :] = pred\n",
    "\n",
    "joints_out = curr_joints + af_preds + K * joints_diff\n",
    "joints_true = y.cpu().numpy() * 90\n",
    "nn_out = curr_joints + K * joints_diff"
   ],
   "metadata": {
    "collapsed": false
   }
  },
  {
   "cell_type": "code",
   "execution_count": 52,
   "outputs": [
    {
     "name": "stdout",
     "output_type": "stream",
     "text": [
      "NN MSE: 23.20488166809082\n",
      "AF MSE: 18.682899318493625\n"
     ]
    }
   ],
   "source": [
    "mse_nn = np.mean(np.abs(nn_out - joints_true))\n",
    "mse_af = np.mean(np.abs(joints_out - joints_true))\n",
    "\n",
    "print(f'NN MSE: {mse_nn}')\n",
    "print(f'AF MSE: {mse_af}')\n"
   ],
   "metadata": {
    "collapsed": false
   }
  },
  {
   "cell_type": "code",
   "execution_count": 53,
   "outputs": [],
   "source": [
    "with open('cmac_trained.p', 'wb') as file:\n",
    "    pickle.dump(c, file)"
   ],
   "metadata": {
    "collapsed": false
   }
  },
  {
   "cell_type": "code",
   "execution_count": 46,
   "outputs": [
    {
     "data": {
      "text/plain": "<Figure size 640x480 with 1 Axes>",
      "image/png": "[encoded data removed]"
     },
     "metadata": {},
     "output_type": "display_data"
    }
   ],
   "source": [
    "_ = plt.hist(af_preds)\n",
    "# _ = plt.hist(nn_out)\n",
    "# _ = plt.hist(joints_true)\n",
    "# _ = plt.hist(joints_out)"
   ],
   "metadata": {
    "collapsed": false
   }
  },
  {
   "cell_type": "code",
   "execution_count": 41,
   "outputs": [
    {
     "data": {
      "text/plain": "<Figure size 640x480 with 1 Axes>",
      "image/png": "[encoded data removed]"
     },
     "metadata": {},
     "output_type": "display_data"
    }
   ],
   "source": [
    "_ = plt.hist(nn_out)"
   ],
   "metadata": {
    "collapsed": false
   }
  },
  {
   "cell_type": "code",
   "execution_count": 24,
   "outputs": [
    {
     "data": {
      "text/plain": "<Figure size 640x480 with 1 Axes>",
      "image/png": "[encoded data removed]"
     },
     "metadata": {},
     "output_type": "display_data"
    }
   ],
   "source": [
    "_ = plt.hist(abs_px)"
   ],
   "metadata": {
    "collapsed": false
   }
  }
 ],
 "metadata": {
  "kernelspec": {
   "display_name": "Python 3",
   "language": "python",
   "name": "python3"
  },
  "language_info": {
   "codemirror_mode": {
    "name": "ipython",
    "version": 2
   },
   "file_extension": ".py",
   "mimetype": "text/x-python",
   "name": "python",
   "nbconvert_exporter": "python",
   "pygments_lexer": "ipython2",
   "version": "2.7.6"
  }
 },
 "nbformat": 4,
 "nbformat_minor": 0
}
