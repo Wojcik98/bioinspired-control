{
 "cells": [
  {
   "cell_type": "code",
   "execution_count": 22,
   "metadata": {
    "collapsed": true
   },
   "outputs": [],
   "source": [
    "import pickle\n",
    "import numpy as np\n",
    "import matplotlib.pyplot as plt\n",
    "import torch\n",
    "import torch_model\n",
    "from adaptive_filter.cerebellum import AdaptiveFilterCerebellum\n",
    "from cmac import CMAC\n",
    "\n",
    "from tqdm import tqdm  # progress bar"
   ]
  },
  {
   "cell_type": "code",
   "execution_count": 38,
   "outputs": [
    {
     "name": "stdout",
     "output_type": "stream",
     "text": [
      "Processing data/training_data.p\n"
     ]
    },
    {
     "name": "stderr",
     "output_type": "stream",
     "text": [
      "100it [00:00, 166.46it/s]\n"
     ]
    },
    {
     "name": "stdout",
     "output_type": "stream",
     "text": [
      "Processing data/training_data2.p\n"
     ]
    },
    {
     "name": "stderr",
     "output_type": "stream",
     "text": [
      "100it [00:00, 107.03it/s]\n"
     ]
    },
    {
     "name": "stdout",
     "output_type": "stream",
     "text": [
      "Processing data/training_data3.p\n"
     ]
    },
    {
     "name": "stderr",
     "output_type": "stream",
     "text": [
      "100it [00:02, 49.68it/s]\n"
     ]
    },
    {
     "name": "stdout",
     "output_type": "stream",
     "text": [
      "Processing data/training_data4.p\n"
     ]
    },
    {
     "name": "stderr",
     "output_type": "stream",
     "text": [
      "100it [00:03, 31.63it/s]\n"
     ]
    },
    {
     "name": "stdout",
     "output_type": "stream",
     "text": [
      "Processing data/training_data5.p\n"
     ]
    },
    {
     "name": "stderr",
     "output_type": "stream",
     "text": [
      "100it [00:03, 25.84it/s]\n"
     ]
    },
    {
     "name": "stdout",
     "output_type": "stream",
     "text": [
      "Processing data/training_data6.p\n"
     ]
    },
    {
     "name": "stderr",
     "output_type": "stream",
     "text": [
      "100it [00:04, 20.89it/s]\n"
     ]
    },
    {
     "name": "stdout",
     "output_type": "stream",
     "text": [
      "Processing data/training_data7.p\n"
     ]
    },
    {
     "name": "stderr",
     "output_type": "stream",
     "text": [
      "100it [00:06, 16.32it/s]\n"
     ]
    },
    {
     "name": "stdout",
     "output_type": "stream",
     "text": [
      "Processing data/training_data8.p\n"
     ]
    },
    {
     "name": "stderr",
     "output_type": "stream",
     "text": [
      "100it [00:06, 14.90it/s]\n"
     ]
    },
    {
     "name": "stdout",
     "output_type": "stream",
     "text": [
      "Processing data/training_data9.p\n"
     ]
    },
    {
     "name": "stderr",
     "output_type": "stream",
     "text": [
      "100it [00:08, 12.50it/s]\n"
     ]
    },
    {
     "name": "stdout",
     "output_type": "stream",
     "text": [
      "Processing data/training_data10.p\n"
     ]
    },
    {
     "name": "stderr",
     "output_type": "stream",
     "text": [
      "100it [00:09, 10.97it/s]\n"
     ]
    },
    {
     "name": "stdout",
     "output_type": "stream",
     "text": [
      "Processing data/training_data11.p\n"
     ]
    },
    {
     "name": "stderr",
     "output_type": "stream",
     "text": [
      "100it [00:08, 11.70it/s]\n"
     ]
    },
    {
     "name": "stdout",
     "output_type": "stream",
     "text": [
      "Processing data/training_data12.p\n"
     ]
    },
    {
     "name": "stderr",
     "output_type": "stream",
     "text": [
      "100it [00:08, 11.43it/s]\n"
     ]
    },
    {
     "name": "stdout",
     "output_type": "stream",
     "text": [
      "Processing data/training_data13.p\n"
     ]
    },
    {
     "name": "stderr",
     "output_type": "stream",
     "text": [
      "100it [00:09, 10.63it/s]\n"
     ]
    },
    {
     "name": "stdout",
     "output_type": "stream",
     "text": [
      "Processing data/training_data14.p\n"
     ]
    },
    {
     "name": "stderr",
     "output_type": "stream",
     "text": [
      "100it [00:12,  8.09it/s]\n"
     ]
    },
    {
     "name": "stdout",
     "output_type": "stream",
     "text": [
      "Processing data/training_data15.p\n"
     ]
    },
    {
     "name": "stderr",
     "output_type": "stream",
     "text": [
      "100it [00:12,  7.73it/s]\n"
     ]
    },
    {
     "name": "stdout",
     "output_type": "stream",
     "text": [
      "Processing data/training_data16.p\n"
     ]
    },
    {
     "name": "stderr",
     "output_type": "stream",
     "text": [
      "100it [00:13,  7.37it/s]\n"
     ]
    },
    {
     "name": "stdout",
     "output_type": "stream",
     "text": [
      "Processing data/training_data17.p\n"
     ]
    },
    {
     "name": "stderr",
     "output_type": "stream",
     "text": [
      "100it [00:13,  7.15it/s]\n"
     ]
    },
    {
     "name": "stdout",
     "output_type": "stream",
     "text": [
      "Processing data/training_data18.p\n"
     ]
    },
    {
     "name": "stderr",
     "output_type": "stream",
     "text": [
      "100it [00:14,  6.97it/s]\n"
     ]
    },
    {
     "name": "stdout",
     "output_type": "stream",
     "text": [
      "Processing data/training_data19.p\n"
     ]
    },
    {
     "name": "stderr",
     "output_type": "stream",
     "text": [
      "100it [00:15,  6.36it/s]\n"
     ]
    },
    {
     "name": "stdout",
     "output_type": "stream",
     "text": [
      "Processing data/training_data20.p\n"
     ]
    },
    {
     "name": "stderr",
     "output_type": "stream",
     "text": [
      "100it [00:16,  5.90it/s]\n"
     ]
    },
    {
     "name": "stdout",
     "output_type": "stream",
     "text": [
      "Processing data/training_data21.p\n"
     ]
    },
    {
     "name": "stderr",
     "output_type": "stream",
     "text": [
      "100it [00:15,  6.41it/s]\n"
     ]
    },
    {
     "name": "stdout",
     "output_type": "stream",
     "text": [
      "Processing data/training_data22.p\n"
     ]
    },
    {
     "name": "stderr",
     "output_type": "stream",
     "text": [
      "100it [00:16,  6.01it/s]\n"
     ]
    },
    {
     "name": "stdout",
     "output_type": "stream",
     "text": [
      "Processing data/training_data23.p\n"
     ]
    },
    {
     "name": "stderr",
     "output_type": "stream",
     "text": [
      "100it [00:16,  5.93it/s]\n"
     ]
    },
    {
     "name": "stdout",
     "output_type": "stream",
     "text": [
      "Processing data/training_data24.p\n"
     ]
    },
    {
     "name": "stderr",
     "output_type": "stream",
     "text": [
      "100it [00:17,  5.66it/s]\n"
     ]
    },
    {
     "name": "stdout",
     "output_type": "stream",
     "text": [
      "Processing data/training_data25.p\n"
     ]
    },
    {
     "name": "stderr",
     "output_type": "stream",
     "text": [
      "100it [00:18,  5.44it/s]\n"
     ]
    },
    {
     "name": "stdout",
     "output_type": "stream",
     "text": [
      "Processing data/training_data26.p\n"
     ]
    },
    {
     "name": "stderr",
     "output_type": "stream",
     "text": [
      "100it [00:18,  5.30it/s]\n"
     ]
    },
    {
     "name": "stdout",
     "output_type": "stream",
     "text": [
      "Processing data/training_data27.p\n"
     ]
    },
    {
     "name": "stderr",
     "output_type": "stream",
     "text": [
      "100it [00:19,  5.08it/s]\n"
     ]
    },
    {
     "name": "stdout",
     "output_type": "stream",
     "text": [
      "Processing data/training_data28.p\n"
     ]
    },
    {
     "name": "stderr",
     "output_type": "stream",
     "text": [
      "100it [00:20,  4.92it/s]\n"
     ]
    },
    {
     "name": "stdout",
     "output_type": "stream",
     "text": [
      "Processing data/training_data29.p\n"
     ]
    },
    {
     "name": "stderr",
     "output_type": "stream",
     "text": [
      "100it [00:21,  4.75it/s]\n"
     ]
    },
    {
     "name": "stdout",
     "output_type": "stream",
     "text": [
      "Processing data/training_data30.p\n"
     ]
    },
    {
     "name": "stderr",
     "output_type": "stream",
     "text": [
      "100it [00:22,  4.39it/s]\n"
     ]
    },
    {
     "name": "stdout",
     "output_type": "stream",
     "text": [
      "Processing data/training_data31.p\n"
     ]
    },
    {
     "name": "stderr",
     "output_type": "stream",
     "text": [
      "400it [07:24,  1.11s/it]\n"
     ]
    }
   ],
   "source": [
    "angles_diff = np.array([[0, 0]])\n",
    "inp = np.array([[0, 0, 0, 0]])\n",
    "abs_px = np.array([[0, 0, 0, 0]])\n",
    "\n",
    "datasets = [\"data/training_data.p\"]\n",
    "for i in range(2, 32):\n",
    "    datasets.append(\"data/training_data\"+str(i)+\".p\")\n",
    "\n",
    "for dataset in datasets:\n",
    "    print(\"Processing {}\".format(dataset))\n",
    "    # Load data\n",
    "    data = pickle.load(open(dataset, \"rb\"))\n",
    "    angles = data[:, :2]\n",
    "    angles /= 90.0\n",
    "    end_pos = data[:, 2:]\n",
    "    end_pos = (end_pos - 200) / 200\n",
    "\n",
    "    for i, angle in tqdm(enumerate(angles)):\n",
    "        for j, angle2 in enumerate(angles):\n",
    "            if i!=j:\n",
    "                angles_diff = np.concatenate((angles_diff, [angle2]))\n",
    "                inp = np.concatenate((inp, [np.concatenate((end_pos[j] - end_pos[i], angle))]))\n",
    "                abs_px = np.concatenate((abs_px, [np.concatenate((end_pos[i], end_pos[j]))]))\n",
    "with open('processed_abs.p', 'wb') as file:\n",
    "    pickle.dump((inp, angles_diff, abs_px), file)\n",
    "# with open('processed_abs.p', 'rb') as file:\n",
    "#     inp, angles_diff = pickle.load(file)"
   ],
   "metadata": {
    "collapsed": false
   }
  },
  {
   "cell_type": "code",
   "execution_count": 39,
   "outputs": [
    {
     "name": "stdout",
     "output_type": "stream",
     "text": [
      "[[-0.02       -0.04       -0.97981771 -0.95052083]\n",
      " [-0.025      -0.105      -0.97981771 -0.95052083]\n",
      " [ 0.1        -0.13       -0.97981771 -0.95052083]\n",
      " ...\n",
      " [-0.015       0.005      -0.00976562  0.84309896]\n",
      " [-0.01        0.01       -0.00976562  0.84309896]\n",
      " [-0.01        0.005      -0.00976562  0.84309896]]\n",
      "[[-0.8984375  -0.95377604]\n",
      " [-0.78450521 -0.95703125]\n",
      " [-0.68033854 -0.95703125]\n",
      " ...\n",
      " [-0.16601562  0.84309896]\n",
      " [-0.11393229  0.84309896]\n",
      " [-0.06184896  0.84309896]]\n",
      "Training set generated\n",
      "Using GPU\n",
      "tensor([[-0.8984, -0.9538],\n",
      "        [-0.7845, -0.9570],\n",
      "        [-0.6803, -0.9570],\n",
      "        ...,\n",
      "        [-0.1660,  0.8431],\n",
      "        [-0.1139,  0.8431],\n",
      "        [-0.0618,  0.8431]])\n",
      "456600\n"
     ]
    }
   ],
   "source": [
    "inp = inp[1:, :]\n",
    "angles_diff = angles_diff[1:, :]\n",
    "abs_px = abs_px[1:, :]\n",
    "print(inp)\n",
    "print(angles_diff)\n",
    "print(\"Training set generated\")\n",
    "# Use GPU?\n",
    "device = 'cpu'\n",
    "if torch.cuda.is_available():\n",
    "    print(\"Using GPU\")\n",
    "    device = 'cuda'\n",
    "    # torch.set_default_tensor_type('torch.cuda.FloatTensor')\n",
    "\n",
    "x = torch.from_numpy(inp).float()\n",
    "y = torch.from_numpy(angles_diff).float()\n",
    "print(y)\n",
    "if device == 'cuda':\n",
    "    x = x.cuda()\n",
    "    y = y.cuda()\n",
    "# DONE split the training set and test set\n",
    "print(len(x.cpu()))\n",
    "train, test = torch.utils.data.random_split(range(len(x)), [0.8, 0.2])\n",
    "x_train, y_train, abs_px_train = x[train.indices], y[train.indices], abs_px[train.indices]\n",
    "x_test, y_test, abs_px_test = x[test.indices], y[test.indices], abs_px[test.indices]\n",
    "# Eventually normalize the data"
   ],
   "metadata": {
    "collapsed": false
   }
  },
  {
   "cell_type": "code",
   "execution_count": 40,
   "outputs": [
    {
     "data": {
      "text/plain": "Net(\n  (net): Sequential(\n    (0): Linear(in_features=4, out_features=50, bias=True)\n    (1): Sigmoid()\n    (2): Linear(in_features=50, out_features=50, bias=True)\n    (3): Sigmoid()\n    (4): Linear(in_features=50, out_features=50, bias=True)\n    (5): Sigmoid()\n    (6): Linear(in_features=50, out_features=2, bias=True)\n  )\n)"
     },
     "execution_count": 40,
     "metadata": {},
     "output_type": "execute_result"
    }
   ],
   "source": [
    "# Define neural network - an example\n",
    "model = torch_model.Net(4, 50, 2)\n",
    "model.load_state_dict(torch.load('closed_loop_trained_model.pth'))\n",
    "model.to(device)\n",
    "model.eval()"
   ],
   "metadata": {
    "collapsed": false
   }
  },
  {
   "cell_type": "code",
   "execution_count": 48,
   "outputs": [],
   "source": [
    "n_inputs = 4\n",
    "n_outputs = 2\n",
    "n_bases = 8\n",
    "beta = 1e-3\n",
    "\n",
    "# c = AdaptiveFilterCerebellum(n_inputs, n_outputs, n_bases, beta)\n",
    "x_min = [-3] * 2\n",
    "x_max = [3] * 2\n",
    "c = [CMAC(n_bases, x_min, x_max, beta) for _ in range(2)]"
   ],
   "metadata": {
    "collapsed": false
   }
  },
  {
   "cell_type": "code",
   "execution_count": 64,
   "outputs": [
    {
     "name": "stderr",
     "output_type": "stream",
     "text": [
      "100%|██████████| 365280/365280 [01:22<00:00, 4412.21it/s]\n",
      "100%|██████████| 365280/365280 [01:15<00:00, 4869.72it/s]\n"
     ]
    }
   ],
   "source": [
    "num_epochs = 2\n",
    "c[0].beta = beta\n",
    "c[1].beta = beta\n",
    "for epoch in range(num_epochs):\n",
    "    x, y, abs_px = x_train, y_train, abs_px_train\n",
    "    curr_px = x[:, :2].cpu().numpy()\n",
    "    curr_joints = x[:, 2:].cpu().numpy()\n",
    "    joints_pred_raw = model(x).cpu()\n",
    "    joints_pred = joints_pred_raw.detach().numpy()[:] * 90\n",
    "    joints_diff = joints_pred - curr_joints\n",
    "\n",
    "    for i in tqdm(range(len(joints_diff))):\n",
    "        # cj = curr_joints[i, :]\n",
    "        # pj = joints_pred[i, :]\n",
    "        dj = joints_diff[i]\n",
    "        # print(dj)\n",
    "        # c.step(np.concatenate((cj, pj)), dj)\n",
    "        # print(abs_px[i, [1,3]])\n",
    "        c[0].predict(abs_px[i, [1, 3]])\n",
    "        c[0].learn(dj[0])\n",
    "        c[1].predict(abs_px[i, [0, 2]])\n",
    "        c[1].learn(dj[1])"
   ],
   "metadata": {
    "collapsed": false
   }
  },
  {
   "cell_type": "code",
   "execution_count": 65,
   "outputs": [
    {
     "name": "stderr",
     "output_type": "stream",
     "text": [
      "100%|██████████| 91320/91320 [00:14<00:00, 6151.05it/s]\n"
     ]
    }
   ],
   "source": [
    "# c[0].beta = 0.0\n",
    "# c[1].beta = 0.0\n",
    "x, y = x_test, y_test\n",
    "curr_joints = x[:, 2:].cpu().numpy()\n",
    "joints_pred_raw = model(x).cpu()\n",
    "joints_pred = joints_pred_raw.detach().numpy()[:] * 90\n",
    "joints_diff = joints_pred - curr_joints\n",
    "K = 0.6\n",
    "samples = len(joints_diff)\n",
    "af_preds = np.zeros((samples, 2))\n",
    "\n",
    "for i in tqdm(range(samples)):\n",
    "    cj = curr_joints[i, :]\n",
    "    pj = joints_pred[i, :]\n",
    "    dj = joints_diff[i]\n",
    "    pred = np.array([\n",
    "        c[0].predict(np.array([cj[0], pj[0]])),\n",
    "        c[1].predict(np.array([cj[1], pj[1]])),\n",
    "    ])\n",
    "    af_preds[i, :] = pred\n",
    "\n",
    "joints_out = curr_joints + af_preds + K * joints_diff\n",
    "joints_true = y.cpu().numpy() * 90\n",
    "nn_out = curr_joints + K * joints_diff"
   ],
   "metadata": {
    "collapsed": false
   }
  },
  {
   "cell_type": "code",
   "execution_count": 66,
   "outputs": [
    {
     "name": "stdout",
     "output_type": "stream",
     "text": [
      "NN MSE: 23.181047439575195\n",
      "AF MSE: 140.03480477995296\n"
     ]
    }
   ],
   "source": [
    "mse_nn = np.mean(np.abs(nn_out - joints_true))\n",
    "mse_af = np.mean(np.abs(joints_out - joints_true))\n",
    "\n",
    "print(f'NN MSE: {mse_nn}')\n",
    "print(f'AF MSE: {mse_af}')\n"
   ],
   "metadata": {
    "collapsed": false
   }
  },
  {
   "cell_type": "code",
   "execution_count": 67,
   "outputs": [
    {
     "data": {
      "text/plain": "(array([[1.0000e+00, 1.0000e+00, 0.0000e+00, 0.0000e+00, 2.0000e+00,\n         0.0000e+00, 0.0000e+00, 0.0000e+00, 0.0000e+00, 0.0000e+00,\n         0.0000e+00, 2.0000e+00, 0.0000e+00, 1.0000e+00, 1.0000e+00,\n         0.0000e+00, 0.0000e+00, 1.0000e+00, 0.0000e+00, 1.0000e+00,\n         0.0000e+00, 1.0000e+00, 0.0000e+00, 0.0000e+00, 0.0000e+00,\n         0.0000e+00, 0.0000e+00, 1.0000e+00, 1.0000e+00, 1.0000e+00,\n         0.0000e+00, 0.0000e+00, 0.0000e+00, 0.0000e+00, 0.0000e+00,\n         0.0000e+00, 0.0000e+00, 0.0000e+00, 0.0000e+00, 1.0000e+00,\n         0.0000e+00, 0.0000e+00, 1.0000e+00, 0.0000e+00, 0.0000e+00,\n         0.0000e+00, 0.0000e+00, 1.0000e+00, 0.0000e+00, 0.0000e+00,\n         1.0000e+00, 1.0000e+00, 0.0000e+00, 0.0000e+00, 0.0000e+00,\n         0.0000e+00, 0.0000e+00, 1.0000e+00, 1.0000e+00, 0.0000e+00,\n         0.0000e+00, 1.0000e+00, 0.0000e+00, 0.0000e+00, 0.0000e+00,\n         0.0000e+00, 0.0000e+00, 0.0000e+00, 1.0000e+00, 0.0000e+00,\n         1.0000e+00, 1.0000e+00, 0.0000e+00, 1.0000e+00, 1.0000e+00,\n         1.0000e+00, 5.0000e+00, 9.1287e+04, 0.0000e+00, 0.0000e+00,\n         0.0000e+00, 0.0000e+00, 0.0000e+00, 0.0000e+00, 0.0000e+00,\n         0.0000e+00, 0.0000e+00, 0.0000e+00, 0.0000e+00, 0.0000e+00,\n         0.0000e+00, 0.0000e+00, 0.0000e+00, 0.0000e+00, 0.0000e+00,\n         0.0000e+00, 0.0000e+00, 0.0000e+00, 0.0000e+00, 0.0000e+00],\n        [0.0000e+00, 0.0000e+00, 0.0000e+00, 0.0000e+00, 0.0000e+00,\n         0.0000e+00, 0.0000e+00, 0.0000e+00, 0.0000e+00, 0.0000e+00,\n         0.0000e+00, 0.0000e+00, 0.0000e+00, 0.0000e+00, 0.0000e+00,\n         0.0000e+00, 0.0000e+00, 0.0000e+00, 0.0000e+00, 0.0000e+00,\n         0.0000e+00, 0.0000e+00, 0.0000e+00, 0.0000e+00, 0.0000e+00,\n         0.0000e+00, 0.0000e+00, 0.0000e+00, 0.0000e+00, 0.0000e+00,\n         0.0000e+00, 0.0000e+00, 0.0000e+00, 0.0000e+00, 0.0000e+00,\n         0.0000e+00, 0.0000e+00, 0.0000e+00, 0.0000e+00, 0.0000e+00,\n         0.0000e+00, 0.0000e+00, 0.0000e+00, 0.0000e+00, 0.0000e+00,\n         0.0000e+00, 0.0000e+00, 0.0000e+00, 0.0000e+00, 1.0000e+00,\n         2.6000e+01, 1.5000e+01, 4.8000e+01, 2.7000e+01, 3.1000e+01,\n         2.9000e+01, 2.8000e+01, 2.3000e+01, 3.0000e+01, 2.3000e+01,\n         3.3000e+01, 2.4000e+01, 4.0000e+01, 3.3000e+01, 3.5000e+01,\n         4.7000e+01, 3.2000e+01, 4.3000e+01, 3.9000e+01, 2.5000e+01,\n         3.8000e+01, 5.1000e+01, 5.7000e+01, 5.9000e+01, 7.0000e+01,\n         8.1000e+01, 1.2800e+02, 8.9187e+04, 1.3000e+02, 9.2000e+01,\n         7.0000e+01, 7.3000e+01, 5.6000e+01, 5.2000e+01, 5.3000e+01,\n         5.6000e+01, 3.9000e+01, 3.5000e+01, 3.5000e+01, 3.0000e+01,\n         3.9000e+01, 2.2000e+01, 2.7000e+01, 2.7000e+01, 2.9000e+01,\n         2.8000e+01, 2.6000e+01, 2.8000e+01, 3.9000e+01, 3.1000e+01]]),\n array([-73961.54277333, -73006.40488753, -72051.26700174, -71096.12911595,\n        -70140.99123015, -69185.85334436, -68230.71545857, -67275.57757277,\n        -66320.43968698, -65365.30180119, -64410.16391539, -63455.0260296 ,\n        -62499.88814381, -61544.75025801, -60589.61237222, -59634.47448643,\n        -58679.33660064, -57724.19871484, -56769.06082905, -55813.92294326,\n        -54858.78505746, -53903.64717167, -52948.50928588, -51993.37140008,\n        -51038.23351429, -50083.0956285 , -49127.9577427 , -48172.81985691,\n        -47217.68197112, -46262.54408532, -45307.40619953, -44352.26831374,\n        -43397.13042794, -42441.99254215, -41486.85465636, -40531.71677056,\n        -39576.57888477, -38621.44099898, -37666.30311318, -36711.16522739,\n        -35756.0273416 , -34800.8894558 , -33845.75157001, -32890.61368422,\n        -31935.47579842, -30980.33791263, -30025.20002684, -29070.06214105,\n        -28114.92425525, -27159.78636946, -26204.64848367, -25249.51059787,\n        -24294.37271208, -23339.23482629, -22384.09694049, -21428.9590547 ,\n        -20473.82116891, -19518.68328311, -18563.54539732, -17608.40751153,\n        -16653.26962573, -15698.13173994, -14742.99385415, -13787.85596835,\n        -12832.71808256, -11877.58019677, -10922.44231097,  -9967.30442518,\n         -9012.16653939,  -8057.02865359,  -7101.8907678 ,  -6146.75288201,\n         -5191.61499621,  -4236.47711042,  -3281.33922463,  -2326.20133883,\n         -1371.06345304,   -415.92556725,    539.21231854,   1494.35020434,\n          2449.48809013,   3404.62597592,   4359.76386172,   5314.90174751,\n          6270.0396333 ,   7225.1775191 ,   8180.31540489,   9135.45329068,\n         10090.59117648,  11045.72906227,  12000.86694806,  12956.00483386,\n         13911.14271965,  14866.28060544,  15821.41849124,  16776.55637703,\n         17731.69426282,  18686.83214862,  19641.97003441,  20597.1079202 ,\n         21552.245806  ]),\n <a list of 2 BarContainer objects>)"
     },
     "execution_count": 67,
     "metadata": {},
     "output_type": "execute_result"
    },
    {
     "data": {
      "text/plain": "<Figure size 640x480 with 1 Axes>",
      "image/png": "[encoded data removed]"
     },
     "metadata": {},
     "output_type": "display_data"
    }
   ],
   "source": [
    "plt.hist(af_preds, bins=100)"
   ],
   "metadata": {
    "collapsed": false
   }
  }
 ],
 "metadata": {
  "kernelspec": {
   "display_name": "Python 3",
   "language": "python",
   "name": "python3"
  },
  "language_info": {
   "codemirror_mode": {
    "name": "ipython",
    "version": 2
   },
   "file_extension": ".py",
   "mimetype": "text/x-python",
   "name": "python",
   "nbconvert_exporter": "python",
   "pygments_lexer": "ipython2",
   "version": "2.7.6"
  }
 },
 "nbformat": 4,
 "nbformat_minor": 0
}
